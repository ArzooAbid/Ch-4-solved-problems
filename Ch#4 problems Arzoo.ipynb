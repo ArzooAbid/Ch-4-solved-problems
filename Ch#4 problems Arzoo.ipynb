{
 "cells": [
  {
   "cell_type": "code",
   "execution_count": 2,
   "metadata": {},
   "outputs": [
    {
     "name": "stdout",
     "output_type": "stream",
     "text": [
      "Fajita\n",
      "Fajita is my favourite\n",
      "Chezzy\n",
      "Chezzy is my favourite\n",
      "Tandoori\n",
      "Tandoori is my favourite\n",
      "Chezzy is my favourite pizza it is very chezzy . I love pizza\n"
     ]
    }
   ],
   "source": [
    "#4.1\n",
    "Arzoo_favourite_pizza=['Fajita','Chezzy','Tandoori']\n",
    "for pizza in Arzoo_favourite_pizza:\n",
    "    print(pizza)\n",
    "    print(pizza.title()+\" is my favourite\")\n",
    "print(Arzoo_favourite_pizza[1].title()+ \" is my favourite pizza it is very chezzy . I love pizza\")"
   ]
  },
  {
   "cell_type": "code",
   "execution_count": 6,
   "metadata": {},
   "outputs": [
    {
     "name": "stdout",
     "output_type": "stream",
     "text": [
      "[1, 8, 27, 64, 125, 216, 343, 512, 729, 1000]\n"
     ]
    }
   ],
   "source": [
    "#4.9\n",
    "cube=[value**3 for value in range(1,11)]\n",
    "print(cube)"
   ]
  }
 ],
 "metadata": {
  "interpreter": {
   "hash": "9bf2ca0f4a7adc3ce2f237ca763c1538d3ef289a4e7face3612a01cdae9f6807"
  },
  "kernelspec": {
   "display_name": "Python 3.10.4 64-bit",
   "language": "python",
   "name": "python3"
  },
  "language_info": {
   "codemirror_mode": {
    "name": "ipython",
    "version": 3
   },
   "file_extension": ".py",
   "mimetype": "text/x-python",
   "name": "python",
   "nbconvert_exporter": "python",
   "pygments_lexer": "ipython3",
   "version": "3.10.4"
  },
  "orig_nbformat": 4
 },
 "nbformat": 4,
 "nbformat_minor": 2
}
